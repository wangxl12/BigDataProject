{
 "cells": [
  {
   "cell_type": "code",
   "execution_count": 1,
   "metadata": {},
   "outputs": [],
   "source": [
    "%load_ext autoreload\n",
    "%autoreload 2\n",
    "%matplotlib inline\n",
    "import numpy as np\n",
    "import pandas as pd\n",
    "import os, sys\n",
    "sys.path.append(os.path.join(os.getcwd(), 'src'))\n",
    "from src.dataset_analyze import *\n",
    "from src.database_op import DataBaseOP\n",
    "from tqdm.notebook import tqdm\n",
    "from functools import reduce\n",
    "import sklearn\n",
    "import matplotlib.pyplot as plt\n",
    "from sklearn.datasets._samples_generator import make_blobs\n",
    "from sklearn.cluster import KMeans\n"
   ]
  },
  {
   "cell_type": "markdown",
   "metadata": {},
   "source": [
    "# 读取所有数据集。数据集较大，有3GB，请保证有足够的内存空间"
   ]
  },
  {
   "cell_type": "code",
   "execution_count": 11,
   "metadata": {},
   "outputs": [
    {
     "data": {
      "text/html": [
       "<div>\n",
       "<style scoped>\n",
       "    .dataframe tbody tr th:only-of-type {\n",
       "        vertical-align: middle;\n",
       "    }\n",
       "\n",
       "    .dataframe tbody tr th {\n",
       "        vertical-align: top;\n",
       "    }\n",
       "\n",
       "    .dataframe thead th {\n",
       "        text-align: right;\n",
       "    }\n",
       "</style>\n",
       "<table border=\"1\" class=\"dataframe\">\n",
       "  <thead>\n",
       "    <tr style=\"text-align: right;\">\n",
       "      <th></th>\n",
       "      <th>用户ID</th>\n",
       "      <th>商品ID</th>\n",
       "      <th>商品类目ID</th>\n",
       "      <th>行为类型</th>\n",
       "      <th>时间戳</th>\n",
       "    </tr>\n",
       "  </thead>\n",
       "  <tbody>\n",
       "    <tr>\n",
       "      <th>0</th>\n",
       "      <td>1</td>\n",
       "      <td>2268318</td>\n",
       "      <td>2520377</td>\n",
       "      <td>pv</td>\n",
       "      <td>1511544070</td>\n",
       "    </tr>\n",
       "    <tr>\n",
       "      <th>1</th>\n",
       "      <td>1</td>\n",
       "      <td>2333346</td>\n",
       "      <td>2520771</td>\n",
       "      <td>pv</td>\n",
       "      <td>1511561733</td>\n",
       "    </tr>\n",
       "    <tr>\n",
       "      <th>2</th>\n",
       "      <td>1</td>\n",
       "      <td>2576651</td>\n",
       "      <td>149192</td>\n",
       "      <td>pv</td>\n",
       "      <td>1511572885</td>\n",
       "    </tr>\n",
       "    <tr>\n",
       "      <th>3</th>\n",
       "      <td>1</td>\n",
       "      <td>3830808</td>\n",
       "      <td>4181361</td>\n",
       "      <td>pv</td>\n",
       "      <td>1511593493</td>\n",
       "    </tr>\n",
       "    <tr>\n",
       "      <th>4</th>\n",
       "      <td>1</td>\n",
       "      <td>4365585</td>\n",
       "      <td>2520377</td>\n",
       "      <td>pv</td>\n",
       "      <td>1511596146</td>\n",
       "    </tr>\n",
       "    <tr>\n",
       "      <th>...</th>\n",
       "      <td>...</td>\n",
       "      <td>...</td>\n",
       "      <td>...</td>\n",
       "      <td>...</td>\n",
       "      <td>...</td>\n",
       "    </tr>\n",
       "    <tr>\n",
       "      <th>100150802</th>\n",
       "      <td>999999</td>\n",
       "      <td>4797808</td>\n",
       "      <td>11120</td>\n",
       "      <td>pv</td>\n",
       "      <td>1512293403</td>\n",
       "    </tr>\n",
       "    <tr>\n",
       "      <th>100150803</th>\n",
       "      <td>999999</td>\n",
       "      <td>4613472</td>\n",
       "      <td>4602841</td>\n",
       "      <td>pv</td>\n",
       "      <td>1512293766</td>\n",
       "    </tr>\n",
       "    <tr>\n",
       "      <th>100150804</th>\n",
       "      <td>999999</td>\n",
       "      <td>3647364</td>\n",
       "      <td>2304296</td>\n",
       "      <td>pv</td>\n",
       "      <td>1512293792</td>\n",
       "    </tr>\n",
       "    <tr>\n",
       "      <th>100150805</th>\n",
       "      <td>999999</td>\n",
       "      <td>1903801</td>\n",
       "      <td>2304296</td>\n",
       "      <td>pv</td>\n",
       "      <td>1512293827</td>\n",
       "    </tr>\n",
       "    <tr>\n",
       "      <th>100150806</th>\n",
       "      <td>999999</td>\n",
       "      <td>3696094</td>\n",
       "      <td>4602841</td>\n",
       "      <td>pv</td>\n",
       "      <td>1512293891</td>\n",
       "    </tr>\n",
       "  </tbody>\n",
       "</table>\n",
       "<p>100150807 rows × 5 columns</p>\n",
       "</div>"
      ],
      "text/plain": [
       "             用户ID     商品ID   商品类目ID 行为类型         时间戳\n",
       "0               1  2268318  2520377   pv  1511544070\n",
       "1               1  2333346  2520771   pv  1511561733\n",
       "2               1  2576651   149192   pv  1511572885\n",
       "3               1  3830808  4181361   pv  1511593493\n",
       "4               1  4365585  2520377   pv  1511596146\n",
       "...           ...      ...      ...  ...         ...\n",
       "100150802  999999  4797808    11120   pv  1512293403\n",
       "100150803  999999  4613472  4602841   pv  1512293766\n",
       "100150804  999999  3647364  2304296   pv  1512293792\n",
       "100150805  999999  1903801  2304296   pv  1512293827\n",
       "100150806  999999  3696094  4602841   pv  1512293891\n",
       "\n",
       "[100150807 rows x 5 columns]"
      ]
     },
     "execution_count": 11,
     "metadata": {},
     "output_type": "execute_result"
    }
   ],
   "source": [
    "# df = pd.read_csv('./dataset/UserBehavior.csv', header=None)\n",
    "df = pd.read_csv(r'D:\\Desktop\\家里学习\\大四上\\课内\\大数据课设\\辅助账号/UserBehavior.csv', header=None)\n",
    "df.columns = ['用户ID', '商品ID', '商品类目ID', '行为类型', '时间戳']\n",
    "df"
   ]
  },
  {
   "cell_type": "markdown",
   "metadata": {},
   "source": [
    "# 数据处理1：统计一个用户每一种行为数量 为top n的商品类目ID"
   ]
  },
  {
   "cell_type": "code",
   "execution_count": 16,
   "metadata": {},
   "outputs": [
    {
     "data": {
      "application/vnd.jupyter.widget-view+json": {
       "model_id": "69f35e901ef04aafb4e39de08a292b0b",
       "version_major": 2,
       "version_minor": 0
      },
      "text/plain": [
       "  0%|          | 0/999 [00:00<?, ?it/s]"
      ]
     },
     "metadata": {},
     "output_type": "display_data"
    }
   ],
   "source": [
    "# connect database\n",
    "dbop = DataBaseOP(database='src/db.sqlite3')\n",
    "dbop.select_table('bigdata_userbehaviortopn')\n",
    "\n",
    "# for table bigdata_userbehaviortopn, attr is fixed\n",
    "attr = 'id, user_id, pv, buy, cart, fav'\n",
    "top_n = 5\n",
    "\n",
    "# maybe the statistic results is empty\n",
    "def empty2zero(Series):\n",
    "    if Series.empty:\n",
    "        return 0\n",
    "    return reduce(lambda x, y: f'{x}\\t{y}', Series.items())\n",
    "\n",
    "# for each loop we can only handle single user\n",
    "# \n",
    "# for too many users, so we take user id [1, 1000)\n",
    "for i in tqdm(range(1, 1000)):\n",
    "    item = single_user_behavior_statistics(df, i, top_n)\n",
    "    \n",
    "    pv = empty2zero(item[i]['pv'])\n",
    "    buy = empty2zero(item[i]['buy'])\n",
    "    cart = empty2zero(item[i]['cart'])\n",
    "    fav = empty2zero(item[i]['fav'])\n",
    "    val = f'{i}, \"{i}\", \"{pv}\", \"{buy}\", \"{cart}\", \"{fav}\"'\n",
    "    # insert\n",
    "    dbop.insert(attr, val)\n",
    "    \n",
    "dbop.close()"
   ]
  },
  {
   "cell_type": "markdown",
   "metadata": {},
   "source": [
    "# 数据处理2：统计各类商品在四个行为中的排名"
   ]
  },
  {
   "cell_type": "code",
   "execution_count": 17,
   "metadata": {},
   "outputs": [
    {
     "data": {
      "application/vnd.jupyter.widget-view+json": {
       "model_id": "7f640087ab454611a77099e3d6960aee",
       "version_major": 2,
       "version_minor": 0
      },
      "text/plain": [
       "  0%|          | 0/1000 [00:00<?, ?it/s]"
      ]
     },
     "metadata": {},
     "output_type": "display_data"
    },
    {
     "data": {
      "application/vnd.jupyter.widget-view+json": {
       "model_id": "a5d3bf55f1f3437e8a01068a842cb59b",
       "version_major": 2,
       "version_minor": 0
      },
      "text/plain": [
       "  0%|          | 0/1000 [00:00<?, ?it/s]"
      ]
     },
     "metadata": {},
     "output_type": "display_data"
    }
   ],
   "source": [
    "# connect database\n",
    "dbop = DataBaseOP(database='src/db.sqlite3')\n",
    "dbop.select_table('bigdata_prodclass')\n",
    "\n",
    "# for table bigdata_prodclass, attr is fixed\n",
    "attr = 'id, prod_clss_id, pv, buy, cart, fav'\n",
    "\n",
    "pcis = productsClassID_statistics(df)\n",
    "for i in tqdm(range(0, 1000)):\n",
    "    item = pcis[i]\n",
    "    val = f'{i}, \"{item[0]}\", {item[1][0]}, {item[1][1]}, {item[1][2]}, {item[1][3]}'\n",
    "    # insert\n",
    "    dbop.insert(attr, val)\n",
    "    \n",
    "dbop.close()"
   ]
  },
  {
   "cell_type": "markdown",
   "metadata": {},
   "source": [
    "# 数据处理3：统计各件商品在四个行为中的排名"
   ]
  },
  {
   "cell_type": "code",
   "execution_count": 18,
   "metadata": {},
   "outputs": [
    {
     "data": {
      "application/vnd.jupyter.widget-view+json": {
       "model_id": "f101cbcbb83e4ac2ac9919b073b89ecd",
       "version_major": 2,
       "version_minor": 0
      },
      "text/plain": [
       "  0%|          | 0/1000 [00:00<?, ?it/s]"
      ]
     },
     "metadata": {},
     "output_type": "display_data"
    },
    {
     "data": {
      "application/vnd.jupyter.widget-view+json": {
       "model_id": "36d84383c120474fa8eddf9d4a23f1df",
       "version_major": 2,
       "version_minor": 0
      },
      "text/plain": [
       "  0%|          | 0/1000 [00:00<?, ?it/s]"
      ]
     },
     "metadata": {},
     "output_type": "display_data"
    }
   ],
   "source": [
    "# connect database\n",
    "dbop = DataBaseOP(database='src/db.sqlite3')\n",
    "dbop.select_table('bigdata_prodid')\n",
    "\n",
    "# for table bigdata_prodid, attr is fixed\n",
    "attr = 'id, prod_id, pv, buy, cart, fav'\n",
    "\n",
    "pis = productsID_statisctis(df)\n",
    "for i in tqdm(range(0, 1000)):\n",
    "    item = pis[i]\n",
    "    val = f'{i}, \"{item[0]}\", {item[1][0]}, {item[1][1]}, {item[1][2]}, {item[1][3]}'\n",
    "    # insert\n",
    "    dbop.insert(attr, val)\n",
    "    \n",
    "dbop.close()"
   ]
  },
  {
   "cell_type": "markdown",
   "metadata": {},
   "source": [
    "# 数据处理4：行为为buy的所有item中，排名前top_n个用户"
   ]
  },
  {
   "cell_type": "code",
   "execution_count": 19,
   "metadata": {},
   "outputs": [
    {
     "data": {
      "application/vnd.jupyter.widget-view+json": {
       "model_id": "5ed423f0581d4705a7e37c666a6a1cab",
       "version_major": 2,
       "version_minor": 0
      },
      "text/plain": [
       "  0%|          | 0/1000 [00:00<?, ?it/s]"
      ]
     },
     "metadata": {},
     "output_type": "display_data"
    },
    {
     "data": {
      "application/vnd.jupyter.widget-view+json": {
       "model_id": "9024480428a34078a053a969692ba4cc",
       "version_major": 2,
       "version_minor": 0
      },
      "text/plain": [
       "  0%|          | 0/1000 [00:00<?, ?it/s]"
      ]
     },
     "metadata": {},
     "output_type": "display_data"
    }
   ],
   "source": [
    "# connect database\n",
    "dbop = DataBaseOP(database='src/db.sqlite3')\n",
    "dbop.select_table('bigdata_buymost')\n",
    "\n",
    "# for table bigdata_buymost, attr is fixed\n",
    "attr = 'id, behavior, user_id, number'\n",
    "\n",
    "wbm = who_buys_most(df)\n",
    "for i in tqdm(range(0, 1000)):\n",
    "    item = wbm[i]\n",
    "    val = f'{i}, \"{item[0]}\", \"{item[1]}\", {item[2]}'\n",
    "    # insert\n",
    "    dbop.insert(attr, val, mode='insert')\n",
    "    \n",
    "dbop.close()"
   ]
  },
  {
   "cell_type": "markdown",
   "metadata": {},
   "source": [
    "# 数据处理5：行为为cart的所有item中，排名前top_n个用户"
   ]
  },
  {
   "cell_type": "code",
   "execution_count": 22,
   "metadata": {},
   "outputs": [
    {
     "data": {
      "application/vnd.jupyter.widget-view+json": {
       "model_id": "50aff4697b5441bf99c6fdd3368ab13f",
       "version_major": 2,
       "version_minor": 0
      },
      "text/plain": [
       "  0%|          | 0/1000 [00:00<?, ?it/s]"
      ]
     },
     "metadata": {},
     "output_type": "display_data"
    },
    {
     "data": {
      "application/vnd.jupyter.widget-view+json": {
       "model_id": "ff7a20fc400242559feca438620fb3bf",
       "version_major": 2,
       "version_minor": 0
      },
      "text/plain": [
       "  0%|          | 0/1000 [00:00<?, ?it/s]"
      ]
     },
     "metadata": {},
     "output_type": "display_data"
    }
   ],
   "source": [
    "# connect database\n",
    "dbop = DataBaseOP(database='src/db.sqlite3')\n",
    "dbop.select_table('bigdata_cartmost')\n",
    "\n",
    "# for table bigdata_buymost, attr is fixed\n",
    "attr = 'id, behavior, user_id, number'\n",
    "\n",
    "wbm = who_cart_most(df)\n",
    "for i in tqdm(range(0, 1000)):\n",
    "    item = wbm[i]\n",
    "    val = f'{i}, \"{item[0]}\", \"{item[1]}\", {item[2]}'\n",
    "    # insert\n",
    "    dbop.insert(attr, val, mode='insert')\n",
    "    \n",
    "dbop.close()"
   ]
  },
  {
   "cell_type": "markdown",
   "metadata": {},
   "source": [
    "# 数据处理6：行为为fav的所有item中，排名前top_n个用户"
   ]
  },
  {
   "cell_type": "code",
   "execution_count": 23,
   "metadata": {},
   "outputs": [
    {
     "data": {
      "application/vnd.jupyter.widget-view+json": {
       "model_id": "6f6f6fe317714274a4a4a0b02a7bbc94",
       "version_major": 2,
       "version_minor": 0
      },
      "text/plain": [
       "  0%|          | 0/1000 [00:00<?, ?it/s]"
      ]
     },
     "metadata": {},
     "output_type": "display_data"
    },
    {
     "data": {
      "application/vnd.jupyter.widget-view+json": {
       "model_id": "6462f819b8b54984b076a81d47490275",
       "version_major": 2,
       "version_minor": 0
      },
      "text/plain": [
       "  0%|          | 0/1000 [00:00<?, ?it/s]"
      ]
     },
     "metadata": {},
     "output_type": "display_data"
    }
   ],
   "source": [
    "# connect database\n",
    "dbop = DataBaseOP(database='src/db.sqlite3')\n",
    "dbop.select_table('bigdata_favmost')\n",
    "\n",
    "# for table bigdata_buymost, attr is fixed\n",
    "attr = 'id, behavior, user_id, number'\n",
    "\n",
    "wbm = who_fav_most(df)\n",
    "for i in tqdm(range(0, 1000)):\n",
    "    item = wbm[i]\n",
    "    val = f'{i}, \"{item[0]}\", \"{item[1]}\", {item[2]}'\n",
    "    # insert\n",
    "    dbop.insert(attr, val, mode='insert')\n",
    "    \n",
    "dbop.close()"
   ]
  },
  {
   "cell_type": "markdown",
   "metadata": {},
   "source": [
    "# 机器学习应用（使用聚类算法）"
   ]
  },
  {
   "cell_type": "code",
   "execution_count": 62,
   "metadata": {},
   "outputs": [],
   "source": [
    "import json\n",
    "\n",
    "dbop = DataBaseOP(database='src/db.sqlite3')\n",
    "dbop.select_table('bigdata_userbehaviortopn')\n",
    "data = dbop.select()\n",
    "\n",
    "# 取前400个用户数据(数据库中只存放了999个)\n",
    "topn = 400\n",
    "cnt = 0\n",
    "# 簇的个数\n",
    "n_clusters = 12\n",
    "X = []\n",
    "for tup in data:\n",
    "    tmp = []\n",
    "    for i in range(2, 6):\n",
    "        if tup[i] == '0':\n",
    "            tmp.append(0)\n",
    "        else:\n",
    "            tmp.append(int(tup[i].split('\\t')[0].split(',')[0].split('(')[1]))\n",
    "\n",
    "    X.append(tmp)\n",
    "    cnt += 1\n",
    "    if cnt > topn: \n",
    "        break\n",
    "dbop.close()\n",
    "\n",
    "y_pred = KMeans(n_clusters=n_clusters, random_state=9).fit_predict(X)\n"
   ]
  },
  {
   "cell_type": "code",
   "execution_count": 63,
   "metadata": {},
   "outputs": [],
   "source": [
    "jsonFile = {}\n",
    "jsonFile[\"type\"] = 'force'\n",
    "jsonFile['categories'] = [{'name': f'cluster{i}',\n",
    "                           'keyword': {},\n",
    "                           'base': f'cluster{i}Rule'} \n",
    "                          for i in range(n_clusters)]\n",
    "\n",
    "jsonFile['nodes'] = [{'name': f'cluster{y_pred[i]}-{topn + 1}',\n",
    "                     'category': float(y_pred[i])} \n",
    "                     for i in range(topn)]\n",
    "\n",
    "clusters = [[] for _ in range(n_clusters)]\n",
    "for id, label in enumerate(y_pred):\n",
    "    clusters[label].append(id)\n",
    "    \n",
    "jsonFile['links'] = []\n",
    "for cluster in clusters:\n",
    "    for node_id in range(1, len(cluster)):\n",
    "        jsonFile['links'].append({'source': float(cluster[node_id]), 'target': float(cluster[0])})\n",
    "\n",
    "with open('./src/bigdata/templates/bigdata/cluster.json', 'w') as f:\n",
    "    json.dump(jsonFile, f, indent=4, ensure_ascii=False)\n"
   ]
  }
 ],
 "metadata": {
  "interpreter": {
   "hash": "2d6e10e5cc09228425c7b08f206d72601cced6edbbe592c786fc2fa1d8cd6e15"
  },
  "kernelspec": {
   "display_name": "Python 3.7.5 64-bit ('cuda101': conda)",
   "name": "python3"
  },
  "language_info": {
   "codemirror_mode": {
    "name": "ipython",
    "version": 3
   },
   "file_extension": ".py",
   "mimetype": "text/x-python",
   "name": "python",
   "nbconvert_exporter": "python",
   "pygments_lexer": "ipython3",
   "version": "3.7.7"
  },
  "orig_nbformat": 4
 },
 "nbformat": 4,
 "nbformat_minor": 2
}
